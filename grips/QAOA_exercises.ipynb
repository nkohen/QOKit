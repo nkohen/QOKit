{
 "cells": [
  {
   "cell_type": "code",
   "execution_count": 13,
   "metadata": {},
   "outputs": [
    {
     "name": "stderr",
     "output_type": "stream",
     "text": [
      "/tmp/ipykernel_145545/3122335358.py:48: DeprecationWarning: The class ``qiskit.utils.quantum_instance.QuantumInstance`` is deprecated as of qiskit-terra 0.24.0. It will be removed no earlier than 3 months after the release date. For code migration guidelines, visit https://qisk.it/qi_migration.\n",
      "  qaoa = QAOA(optimizer=optimizer, reps=p, quantum_instance=QuantumInstance(backend, shots=1024))\n",
      "/tmp/ipykernel_145545/3122335358.py:48: DeprecationWarning: The class ``qiskit.algorithms.minimum_eigen_solvers.qaoa.QAOA`` is deprecated as of qiskit-terra 0.24.0. It will be removed no earlier than 3 months after the release date. Instead, use the class ``qiskit.algorithms.minimum_eigensolvers.QAOA``. See https://qisk.it/algo_migration for a migration guide.\n",
      "  qaoa = QAOA(optimizer=optimizer, reps=p, quantum_instance=QuantumInstance(backend, shots=1024))\n"
     ]
    },
    {
     "ename": "AttributeError",
     "evalue": "'SparsePauliOp' object has no attribute 'primitive_strings'",
     "output_type": "error",
     "traceback": [
      "\u001b[0;31m---------------------------------------------------------------------------\u001b[0m",
      "\u001b[0;31mAttributeError\u001b[0m                            Traceback (most recent call last)",
      "Cell \u001b[0;32mIn[13], line 49\u001b[0m\n\u001b[1;32m     47\u001b[0m \u001b[38;5;28;01mfor\u001b[39;00m p \u001b[38;5;129;01min\u001b[39;00m p_values:\n\u001b[1;32m     48\u001b[0m     qaoa \u001b[38;5;241m=\u001b[39m QAOA(optimizer\u001b[38;5;241m=\u001b[39moptimizer, reps\u001b[38;5;241m=\u001b[39mp, quantum_instance\u001b[38;5;241m=\u001b[39mQuantumInstance(backend, shots\u001b[38;5;241m=\u001b[39m\u001b[38;5;241m1024\u001b[39m))\n\u001b[0;32m---> 49\u001b[0m     result \u001b[38;5;241m=\u001b[39m \u001b[43mMinimumEigenOptimizer\u001b[49m\u001b[43m(\u001b[49m\u001b[43mqaoa\u001b[49m\u001b[43m)\u001b[49m\u001b[38;5;241;43m.\u001b[39;49m\u001b[43msolve\u001b[49m\u001b[43m(\u001b[49m\u001b[43mqubo\u001b[49m\u001b[43m)\u001b[49m\n\u001b[1;32m     50\u001b[0m     expectation_qiskit\u001b[38;5;241m.\u001b[39mappend(result\u001b[38;5;241m.\u001b[39mfval \u001b[38;5;241m+\u001b[39m offset)\n\u001b[1;32m     52\u001b[0m \u001b[38;5;66;03m# Plotting the results\u001b[39;00m\n",
      "File \u001b[0;32m~/dev/qokit/lib/python3.10/site-packages/qiskit_optimization/algorithms/minimum_eigen_optimizer.py:205\u001b[0m, in \u001b[0;36mMinimumEigenOptimizer.solve\u001b[0;34m(self, problem)\u001b[0m\n\u001b[1;32m    202\u001b[0m \u001b[38;5;66;03m# construct operator and offset\u001b[39;00m\n\u001b[1;32m    203\u001b[0m operator, offset \u001b[38;5;241m=\u001b[39m problem_\u001b[38;5;241m.\u001b[39mto_ising()\n\u001b[0;32m--> 205\u001b[0m \u001b[38;5;28;01mreturn\u001b[39;00m \u001b[38;5;28;43mself\u001b[39;49m\u001b[38;5;241;43m.\u001b[39;49m\u001b[43m_solve_internal\u001b[49m\u001b[43m(\u001b[49m\u001b[43moperator\u001b[49m\u001b[43m,\u001b[49m\u001b[43m \u001b[49m\u001b[43moffset\u001b[49m\u001b[43m,\u001b[49m\u001b[43m \u001b[49m\u001b[43mproblem_\u001b[49m\u001b[43m,\u001b[49m\u001b[43m \u001b[49m\u001b[43mproblem\u001b[49m\u001b[43m)\u001b[49m\n",
      "File \u001b[0;32m~/dev/qokit/lib/python3.10/site-packages/qiskit_optimization/algorithms/minimum_eigen_optimizer.py:218\u001b[0m, in \u001b[0;36mMinimumEigenOptimizer._solve_internal\u001b[0;34m(self, operator, offset, converted_problem, original_problem)\u001b[0m\n\u001b[1;32m    215\u001b[0m eigen_result: Optional[MinimumEigensolverResult] \u001b[38;5;241m=\u001b[39m \u001b[38;5;28;01mNone\u001b[39;00m\n\u001b[1;32m    216\u001b[0m \u001b[38;5;28;01mif\u001b[39;00m operator\u001b[38;5;241m.\u001b[39mnum_qubits \u001b[38;5;241m>\u001b[39m \u001b[38;5;241m0\u001b[39m:\n\u001b[1;32m    217\u001b[0m     \u001b[38;5;66;03m# approximate ground state of operator using min eigen solver\u001b[39;00m\n\u001b[0;32m--> 218\u001b[0m     eigen_result \u001b[38;5;241m=\u001b[39m \u001b[38;5;28;43mself\u001b[39;49m\u001b[38;5;241;43m.\u001b[39;49m\u001b[43m_min_eigen_solver\u001b[49m\u001b[38;5;241;43m.\u001b[39;49m\u001b[43mcompute_minimum_eigenvalue\u001b[49m\u001b[43m(\u001b[49m\u001b[43moperator\u001b[49m\u001b[43m)\u001b[49m\n\u001b[1;32m    219\u001b[0m     \u001b[38;5;66;03m# analyze results\u001b[39;00m\n\u001b[1;32m    220\u001b[0m     raw_samples \u001b[38;5;241m=\u001b[39m \u001b[38;5;28;01mNone\u001b[39;00m\n",
      "File \u001b[0;32m~/dev/qokit/lib/python3.10/site-packages/qiskit/algorithms/minimum_eigen_solvers/vqe.py:536\u001b[0m, in \u001b[0;36mVQE.compute_minimum_eigenvalue\u001b[0;34m(self, operator, aux_operators)\u001b[0m\n\u001b[1;32m    533\u001b[0m     gradient \u001b[38;5;241m=\u001b[39m \u001b[38;5;28mself\u001b[39m\u001b[38;5;241m.\u001b[39m_gradient\n\u001b[1;32m    535\u001b[0m \u001b[38;5;28mself\u001b[39m\u001b[38;5;241m.\u001b[39m_eval_count \u001b[38;5;241m=\u001b[39m \u001b[38;5;241m0\u001b[39m\n\u001b[0;32m--> 536\u001b[0m energy_evaluation, expectation \u001b[38;5;241m=\u001b[39m \u001b[38;5;28;43mself\u001b[39;49m\u001b[38;5;241;43m.\u001b[39;49m\u001b[43mget_energy_evaluation\u001b[49m\u001b[43m(\u001b[49m\n\u001b[1;32m    537\u001b[0m \u001b[43m    \u001b[49m\u001b[43moperator\u001b[49m\u001b[43m,\u001b[49m\u001b[43m \u001b[49m\u001b[43mreturn_expectation\u001b[49m\u001b[38;5;241;43m=\u001b[39;49m\u001b[38;5;28;43;01mTrue\u001b[39;49;00m\n\u001b[1;32m    538\u001b[0m \u001b[43m\u001b[49m\u001b[43m)\u001b[49m\n\u001b[1;32m    540\u001b[0m start_time \u001b[38;5;241m=\u001b[39m time()\n\u001b[1;32m    542\u001b[0m \u001b[38;5;28;01mif\u001b[39;00m \u001b[38;5;28mcallable\u001b[39m(\u001b[38;5;28mself\u001b[39m\u001b[38;5;241m.\u001b[39moptimizer):\n",
      "File \u001b[0;32m~/dev/qokit/lib/python3.10/site-packages/qiskit/algorithms/minimum_eigen_solvers/vqe.py:613\u001b[0m, in \u001b[0;36mVQE.get_energy_evaluation\u001b[0;34m(self, operator, return_expectation)\u001b[0m\n\u001b[1;32m    610\u001b[0m     \u001b[38;5;28;01mraise\u001b[39;00m \u001b[38;5;167;01mRuntimeError\u001b[39;00m(\u001b[38;5;124m\"\u001b[39m\u001b[38;5;124mThe ansatz must be parameterized, but has 0 free parameters.\u001b[39m\u001b[38;5;124m\"\u001b[39m)\n\u001b[1;32m    612\u001b[0m ansatz_params \u001b[38;5;241m=\u001b[39m \u001b[38;5;28mself\u001b[39m\u001b[38;5;241m.\u001b[39mansatz\u001b[38;5;241m.\u001b[39mparameters\n\u001b[0;32m--> 613\u001b[0m expect_op, expectation \u001b[38;5;241m=\u001b[39m \u001b[38;5;28;43mself\u001b[39;49m\u001b[38;5;241;43m.\u001b[39;49m\u001b[43mconstruct_expectation\u001b[49m\u001b[43m(\u001b[49m\n\u001b[1;32m    614\u001b[0m \u001b[43m    \u001b[49m\u001b[43mansatz_params\u001b[49m\u001b[43m,\u001b[49m\u001b[43m \u001b[49m\u001b[43moperator\u001b[49m\u001b[43m,\u001b[49m\u001b[43m \u001b[49m\u001b[43mreturn_expectation\u001b[49m\u001b[38;5;241;43m=\u001b[39;49m\u001b[38;5;28;43;01mTrue\u001b[39;49;00m\n\u001b[1;32m    615\u001b[0m \u001b[43m\u001b[49m\u001b[43m)\u001b[49m\n\u001b[1;32m    617\u001b[0m \u001b[38;5;28;01mdef\u001b[39;00m \u001b[38;5;21menergy_evaluation\u001b[39m(parameters):\n\u001b[1;32m    618\u001b[0m     parameter_sets \u001b[38;5;241m=\u001b[39m np\u001b[38;5;241m.\u001b[39mreshape(parameters, (\u001b[38;5;241m-\u001b[39m\u001b[38;5;241m1\u001b[39m, num_parameters))\n",
      "File \u001b[0;32m~/dev/qokit/lib/python3.10/site-packages/qiskit/algorithms/minimum_eigen_solvers/vqe.py:431\u001b[0m, in \u001b[0;36mVQE.construct_expectation\u001b[0;34m(self, parameter, operator, return_expectation)\u001b[0m\n\u001b[1;32m    429\u001b[0m \u001b[38;5;66;03m# if expectation was never created, try to create one\u001b[39;00m\n\u001b[1;32m    430\u001b[0m \u001b[38;5;28;01mif\u001b[39;00m \u001b[38;5;28mself\u001b[39m\u001b[38;5;241m.\u001b[39mexpectation \u001b[38;5;129;01mis\u001b[39;00m \u001b[38;5;28;01mNone\u001b[39;00m:\n\u001b[0;32m--> 431\u001b[0m     expectation \u001b[38;5;241m=\u001b[39m \u001b[43mExpectationFactory\u001b[49m\u001b[38;5;241;43m.\u001b[39;49m\u001b[43mbuild\u001b[49m\u001b[43m(\u001b[49m\n\u001b[1;32m    432\u001b[0m \u001b[43m        \u001b[49m\u001b[43moperator\u001b[49m\u001b[38;5;241;43m=\u001b[39;49m\u001b[43moperator\u001b[49m\u001b[43m,\u001b[49m\n\u001b[1;32m    433\u001b[0m \u001b[43m        \u001b[49m\u001b[43mbackend\u001b[49m\u001b[38;5;241;43m=\u001b[39;49m\u001b[38;5;28;43mself\u001b[39;49m\u001b[38;5;241;43m.\u001b[39;49m\u001b[43mquantum_instance\u001b[49m\u001b[43m,\u001b[49m\n\u001b[1;32m    434\u001b[0m \u001b[43m        \u001b[49m\u001b[43minclude_custom\u001b[49m\u001b[38;5;241;43m=\u001b[39;49m\u001b[38;5;28;43mself\u001b[39;49m\u001b[38;5;241;43m.\u001b[39;49m\u001b[43m_include_custom\u001b[49m\u001b[43m,\u001b[49m\n\u001b[1;32m    435\u001b[0m \u001b[43m    \u001b[49m\u001b[43m)\u001b[49m\n\u001b[1;32m    436\u001b[0m \u001b[38;5;28;01melse\u001b[39;00m:\n\u001b[1;32m    437\u001b[0m     expectation \u001b[38;5;241m=\u001b[39m \u001b[38;5;28mself\u001b[39m\u001b[38;5;241m.\u001b[39mexpectation\n",
      "File \u001b[0;32m~/dev/qokit/lib/python3.10/site-packages/qiskit/utils/deprecation.py:96\u001b[0m, in \u001b[0;36mdeprecate_func.<locals>.decorator.<locals>.wrapper\u001b[0;34m(*args, **kwargs)\u001b[0m\n\u001b[1;32m     93\u001b[0m \u001b[38;5;129m@functools\u001b[39m\u001b[38;5;241m.\u001b[39mwraps(func)\n\u001b[1;32m     94\u001b[0m \u001b[38;5;28;01mdef\u001b[39;00m \u001b[38;5;21mwrapper\u001b[39m(\u001b[38;5;241m*\u001b[39margs, \u001b[38;5;241m*\u001b[39m\u001b[38;5;241m*\u001b[39mkwargs):\n\u001b[1;32m     95\u001b[0m     warnings\u001b[38;5;241m.\u001b[39mwarn(msg, category\u001b[38;5;241m=\u001b[39mcategory, stacklevel\u001b[38;5;241m=\u001b[39m\u001b[38;5;241m2\u001b[39m)\n\u001b[0;32m---> 96\u001b[0m     \u001b[38;5;28;01mreturn\u001b[39;00m \u001b[43mfunc\u001b[49m\u001b[43m(\u001b[49m\u001b[38;5;241;43m*\u001b[39;49m\u001b[43margs\u001b[49m\u001b[43m,\u001b[49m\u001b[43m \u001b[49m\u001b[38;5;241;43m*\u001b[39;49m\u001b[38;5;241;43m*\u001b[39;49m\u001b[43mkwargs\u001b[49m\u001b[43m)\u001b[49m\n",
      "File \u001b[0;32m~/dev/qokit/lib/python3.10/site-packages/qiskit/opflow/expectations/expectation_factory.py:73\u001b[0m, in \u001b[0;36mExpectationFactory.build\u001b[0;34m(operator, backend, include_custom)\u001b[0m\n\u001b[1;32m     70\u001b[0m backend_to_check \u001b[38;5;241m=\u001b[39m backend\u001b[38;5;241m.\u001b[39mbackend \u001b[38;5;28;01mif\u001b[39;00m \u001b[38;5;28misinstance\u001b[39m(backend, QuantumInstance) \u001b[38;5;28;01melse\u001b[39;00m backend\n\u001b[1;32m     72\u001b[0m \u001b[38;5;66;03m# pylint: disable=cyclic-import\u001b[39;00m\n\u001b[0;32m---> 73\u001b[0m primitives \u001b[38;5;241m=\u001b[39m \u001b[43moperator\u001b[49m\u001b[38;5;241;43m.\u001b[39;49m\u001b[43mprimitive_strings\u001b[49m()\n\u001b[1;32m     74\u001b[0m \u001b[38;5;28;01mif\u001b[39;00m primitives \u001b[38;5;129;01min\u001b[39;00m ({\u001b[38;5;124m\"\u001b[39m\u001b[38;5;124mPauli\u001b[39m\u001b[38;5;124m\"\u001b[39m}, {\u001b[38;5;124m\"\u001b[39m\u001b[38;5;124mSparsePauliOp\u001b[39m\u001b[38;5;124m\"\u001b[39m}):\n\u001b[1;32m     76\u001b[0m     \u001b[38;5;28;01mif\u001b[39;00m backend_to_check \u001b[38;5;129;01mis\u001b[39;00m \u001b[38;5;28;01mNone\u001b[39;00m:\n\u001b[1;32m     77\u001b[0m         \u001b[38;5;66;03m# If user has Aer but didn't specify a backend, use the Aer fast expectation\u001b[39;00m\n",
      "\u001b[0;31mAttributeError\u001b[0m: 'SparsePauliOp' object has no attribute 'primitive_strings'"
     ]
    }
   ],
   "source": [
    "import numpy as np\n",
    "import matplotlib.pyplot as plt\n",
    "from qiskit import Aer\n",
    "from qiskit_optimization import QuadraticProgram\n",
    "from qiskit_optimization.algorithms import MinimumEigenOptimizer\n",
    "from qiskit_optimization.converters import QuadraticProgramToQubo\n",
    "from qiskit.algorithms import QAOA\n",
    "from qiskit.utils import QuantumInstance\n",
    "from qiskit.algorithms.optimizers import COBYLA\n",
    "\n",
    "# Define the graph for the MaxCut problem\n",
    "w = np.array([[0, 1, 1, 0, 0],\n",
    "              [1, 0, 1, 1, 0],\n",
    "              [1, 1, 0, 1, 0],\n",
    "              [0, 1, 1, 0, 1],\n",
    "              [0, 0, 0, 1, 0]])\n",
    "\n",
    "# Create a Quadratic Program for the MaxCut problem\n",
    "qp = QuadraticProgram()\n",
    "n = len(w)\n",
    "for i in range(n):\n",
    "    qp.binary_var(name=f\"x{i}\")\n",
    "\n",
    "# Set the objective function\n",
    "for i in range(n):\n",
    "    for j in range(i):\n",
    "        if w[i, j] != 0:\n",
    "            qp.minimize(quadratic={('x'+str(i), 'x'+str(j)): -w[i, j]})\n",
    "\n",
    "# Convert to QUBO\n",
    "qp_to_qubo = QuadraticProgramToQubo()\n",
    "qubo = qp_to_qubo.convert(qp)\n",
    "\n",
    "# Convert QUBO to PauliSumOp\n",
    "operator, offset = qubo.to_ising()\n",
    "# No need to convert to PauliSumOp explicitly, already a SparsePauliOp\n",
    "# operator = PauliSumOp(operator)\n",
    "\n",
    "# Parameters for QAOA\n",
    "p_values = [1, 2, 3, 4, 5]\n",
    "expectation_qiskit = []\n",
    "\n",
    "# Qiskit QAOA\n",
    "backend = Aer.get_backend('aer_simulator')\n",
    "optimizer = COBYLA(maxiter=100)\n",
    "\n",
    "for p in p_values:\n",
    "    qaoa = QAOA(optimizer=optimizer, reps=p, quantum_instance=QuantumInstance(backend, shots=1024))\n",
    "    result = MinimumEigenOptimizer(qaoa).solve(qubo)\n",
    "    expectation_qiskit.append(result.fval + offset)\n",
    "\n",
    "# Plotting the results\n",
    "plt.figure(figsize=(10, 6))\n",
    "plt.plot(p_values, expectation_qiskit, label='Qiskit', marker='o')\n",
    "plt.xlabel('Step number p')\n",
    "plt.ylabel('Expectation value')\n",
    "plt.title('QAOA for MaxCut: Qiskit')\n",
    "plt.legend()\n",
    "plt.grid(True)\n",
    "plt.show()"
   ]
  }
 ],
 "metadata": {
  "kernelspec": {
   "display_name": "qokit",
   "language": "python",
   "name": "python3"
  },
  "language_info": {
   "codemirror_mode": {
    "name": "ipython",
    "version": 3
   },
   "file_extension": ".py",
   "mimetype": "text/x-python",
   "name": "python",
   "nbconvert_exporter": "python",
   "pygments_lexer": "ipython3",
   "version": "3.10.12"
  }
 },
 "nbformat": 4,
 "nbformat_minor": 2
}
