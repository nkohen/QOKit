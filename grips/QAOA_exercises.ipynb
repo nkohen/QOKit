{
 "cells": [
  {
   "cell_type": "code",
   "execution_count": 1,
   "metadata": {},
   "outputs": [
    {
     "ename": "ModuleNotFoundError",
     "evalue": "No module named 'qiskit.optimization'",
     "output_type": "error",
     "traceback": [
      "\u001b[0;31m---------------------------------------------------------------------------\u001b[0m",
      "\u001b[0;31mModuleNotFoundError\u001b[0m                       Traceback (most recent call last)",
      "Cell \u001b[0;32mIn[1], line 4\u001b[0m\n\u001b[1;32m      2\u001b[0m \u001b[38;5;28;01mimport\u001b[39;00m \u001b[38;5;21;01mmatplotlib\u001b[39;00m\u001b[38;5;21;01m.\u001b[39;00m\u001b[38;5;21;01mpyplot\u001b[39;00m \u001b[38;5;28;01mas\u001b[39;00m \u001b[38;5;21;01mplt\u001b[39;00m\n\u001b[1;32m      3\u001b[0m \u001b[38;5;28;01mfrom\u001b[39;00m \u001b[38;5;21;01mqiskit\u001b[39;00m \u001b[38;5;28;01mimport\u001b[39;00m Aer, execute\n\u001b[0;32m----> 4\u001b[0m \u001b[38;5;28;01mfrom\u001b[39;00m \u001b[38;5;21;01mqiskit\u001b[39;00m\u001b[38;5;21;01m.\u001b[39;00m\u001b[38;5;21;01moptimization\u001b[39;00m\u001b[38;5;21;01m.\u001b[39;00m\u001b[38;5;21;01mising\u001b[39;00m \u001b[38;5;28;01mimport\u001b[39;00m max_cut\n\u001b[1;32m      5\u001b[0m \u001b[38;5;28;01mfrom\u001b[39;00m \u001b[38;5;21;01mqiskit\u001b[39;00m\u001b[38;5;21;01m.\u001b[39;00m\u001b[38;5;21;01maqua\u001b[39;00m\u001b[38;5;21;01m.\u001b[39;00m\u001b[38;5;21;01malgorithms\u001b[39;00m \u001b[38;5;28;01mimport\u001b[39;00m QAOA\n\u001b[1;32m      6\u001b[0m \u001b[38;5;28;01mfrom\u001b[39;00m \u001b[38;5;21;01mqiskit\u001b[39;00m\u001b[38;5;21;01m.\u001b[39;00m\u001b[38;5;21;01maqua\u001b[39;00m \u001b[38;5;28;01mimport\u001b[39;00m QuantumInstance\n",
      "\u001b[0;31mModuleNotFoundError\u001b[0m: No module named 'qiskit.optimization'"
     ]
    }
   ],
   "source": [
    "import numpy as np\n",
    "import matplotlib.pyplot as plt\n",
    "from qiskit import Aer, execute\n",
    "from qiskit_optimization.problems import QuadraticProgram\n",
    "from qiskit_optimization.converters import QuadraticProgramToQubo\n",
    "from qiskit_optimization.algorithms import MinimumEigenOptimizer\n",
    "from qiskit.aqua.algorithms import QAOA\n",
    "from qiskit.aqua import QuantumInstance\n",
    "from qiskit.circuit.library import TwoLocal\n",
    "from qiskit.aqua.components.optimizers import COBYLA\n",
    "\n",
    "# Define the graph for the MaxCut problem\n",
    "w = np.array([[0, 1, 1, 0, 0],\n",
    "              [1, 0, 1, 1, 0],\n",
    "              [1, 1, 0, 1, 0],\n",
    "              [0, 1, 1, 0, 1],\n",
    "              [0, 0, 0, 1, 0]])\n",
    "\n",
    "# Create a Quadratic Program for the MaxCut problem\n",
    "qp = QuadraticProgram()\n",
    "n = len(w)\n",
    "for i in range(n):\n",
    "    qp.binary_var(name=f\"x{i}\")\n",
    "\n",
    "objective = 0\n",
    "for i in range(n):\n",
    "    for j in range(i):\n",
    "        if w[i, j] != 0:\n",
    "            qp.minimize(linear=0, quadratic={(i, j): -w[i, j]})\n",
    "            objective += w[i, j] * (qp.variables[i] - qp.variables[j]) ** 2\n",
    "\n",
    "qp.objective.constant = objective\n",
    "\n",
    "# Convert to QUBO\n",
    "qp_to_qubo = QuadraticProgramToQubo()\n",
    "qubo = qp_to_qubo.convert(qp)\n",
    "\n",
    "# Parameters for QAOA\n",
    "p_values = [1, 2, 3, 4, 5]\n",
    "expectation_qiskit = []\n",
    "expectation_qokit = []\n",
    "\n",
    "# Qiskit QAOA\n",
    "backend = Aer.get_backend('qasm_simulator')\n",
    "optimizer = COBYLA(maxiter=100)\n",
    "\n",
    "for p in p_values:\n",
    "    qaoa = QAOA(qubo, optimizer, p=p, quantum_instance=QuantumInstance(backend, shots=1024))\n",
    "    result = MinimumEigenOptimizer(qaoa).solve(qp)\n",
    "    expectation_qiskit.append(result.fval)\n",
    "\n",
    "# QOKit QAOA (Assuming QOKit has similar API to Qiskit)\n",
    "# from qokit import QAOA, QuantumInstance, Aer\n",
    "# \n",
    "# for p in p_values:\n",
    "#     qaoa = QAOA(qubo, optimizer, p=p, quantum_instance=QuantumInstance(backend, shots=1024))\n",
    "#     result = MinimumEigenOptimizer(qaoa).solve(qp)\n",
    "#     expectation_qokit.append(result.fval)\n",
    "\n",
    "# Plotting the results\n",
    "plt.figure(figsize=(10, 6))\n",
    "plt.plot(p_values, expectation_qiskit, label='Qiskit', marker='o')\n",
    "plt.plot(p_values, expectation_qokit, label='QOKit', marker='x')\n",
    "plt.xlabel('Step number p')\n",
    "plt.ylabel('Expectation value')\n",
    "plt.title('QAOA for MaxCut: Qiskit vs QOKit')\n",
    "plt.legend()\n",
    "plt.grid(True)\n",
    "plt.show()"
   ]
  }
 ],
 "metadata": {
  "kernelspec": {
   "display_name": "qokit",
   "language": "python",
   "name": "python3"
  },
  "language_info": {
   "codemirror_mode": {
    "name": "ipython",
    "version": 3
   },
   "file_extension": ".py",
   "mimetype": "text/x-python",
   "name": "python",
   "nbconvert_exporter": "python",
   "pygments_lexer": "ipython3",
   "version": "3.10.12"
  }
 },
 "nbformat": 4,
 "nbformat_minor": 2
}
